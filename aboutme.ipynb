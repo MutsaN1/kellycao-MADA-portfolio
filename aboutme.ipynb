{
  "cells": [
    {
      "cell_type": "raw",
      "metadata": {},
      "source": [
        "---\n",
        "title: \"ABOUT ME\"\n",
        "---"
      ],
      "id": "9c7c89e5"
    },
    {
      "cell_type": "markdown",
      "metadata": {},
      "source": [
        "![The first time I saw a volcanic eruption!](Images/Lava.jpg){width=50% height=50%}\n",
        "\n",
        "## **Background**\n",
        "\n",
        "Hello! My name is Kelly Cao, and I am a first-year non-thesis Master's student in the IOB department. Most of my background is in wet lab experience, so I have much to learn. I am excited to get to know everyone!\n",
        "\n",
        "## **Education**\n",
        "\n",
        "Ms Bioinformatics, August 2023 - Present\n",
        "University of Georgia, Athens, GA\n",
        "\n",
        "Bs Chemistry, August 2017 - May 2021\n",
        "Georgia State University, Atlanta, GA\n",
        "\n",
        "## **Experience**\n",
        "\n",
        "In my limited experience with R, I had the privilege of collaborating with Dr. Pejman Rohani and Dr. Christian Gunnings on data cleaning, particularly with pertussis vaccination records provided by the CDC. Using basic functions like dplyr and readr, I've had to opportunity to clean and analyze fixed width format (FWF) data files and prepare it for analysis. This valuable experience provided me with insights into the complexities of working with public health data and reinforced my commitment to learning and refining my skills in data manipulation with R.\n",
        "\n",
        "I also have some limited experience working with Python, Matlab, and C++. \n",
        "\n",
        "## **Hopes for the Class**\n",
        "\n",
        "I am taking this class in addition to a statistics class, so I'm hoping to dedicate my time to learn more about data analysis in a way I can apply to my work. \n",
        "\n",
        "## **Interests**\n",
        "\n",
        "In my free time, I enjoy knitting and playing with my two cats. \n",
        "\n",
        "## Here are my two cats!\n",
        "\n",
        "![](Images/Mocha.jpg){width=50% height=50%}\n",
        "\n",
        "![](Images/Cocoa.jpg){width=50% height=50%}\n",
        "\n",
        "```{quarto}\n",
        "::figure\n",
        "figs:\n",
        "  - img: Images/Mocha.jpg\n",
        "    width: 50%\n",
        "    height: 50%\n",
        "    caption: \"Mocha\"\n",
        "  - img: Images/Cocoa.jpg\n",
        "    width: 50%\n",
        "    height: 50%\n",
        "    caption: \"Cocoa\""
      ],
      "id": "f0fac6a9"
    }
  ],
  "metadata": {
    "kernelspec": {
      "display_name": "Python 3",
      "language": "python",
      "name": "python3"
    }
  },
  "nbformat": 4,
  "nbformat_minor": 5
}